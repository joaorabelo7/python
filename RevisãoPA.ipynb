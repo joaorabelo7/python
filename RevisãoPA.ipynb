{
  "nbformat": 4,
  "nbformat_minor": 0,
  "metadata": {
    "colab": {
      "provenance": [],
      "authorship_tag": "ABX9TyONRuel6q4N03U4o3wHEUMt",
      "include_colab_link": true
    },
    "kernelspec": {
      "name": "python3",
      "display_name": "Python 3"
    },
    "language_info": {
      "name": "python"
    }
  },
  "cells": [
    {
      "cell_type": "markdown",
      "metadata": {
        "id": "view-in-github",
        "colab_type": "text"
      },
      "source": [
        "<a href=\"https://colab.research.google.com/github/joaorabelo7/python/blob/main/Revis%C3%A3oPA.ipynb\" target=\"_parent\"><img src=\"https://colab.research.google.com/assets/colab-badge.svg\" alt=\"Open In Colab\"/></a>"
      ]
    },
    {
      "cell_type": "code",
      "execution_count": null,
      "metadata": {
        "id": "dCoYDwZtX7vE"
      },
      "outputs": [],
      "source": []
    },
    {
      "cell_type": "markdown",
      "source": [
        "**REVISÃO DE CONCEITOS PA**\n"
      ],
      "metadata": {
        "id": "Onnlz_mFX-Mf"
      }
    },
    {
      "cell_type": "markdown",
      "source": [
        "Operados:\n",
        "\n",
        "AND, OR , XOR , NOT\n"
      ],
      "metadata": {
        "id": "apPPLRWSY2EV"
      }
    },
    {
      "cell_type": "code",
      "source": [
        "# Operador lógico OU\n",
        "False or True"
      ],
      "metadata": {
        "colab": {
          "base_uri": "https://localhost:8080/"
        },
        "id": "Fe9osqo1ZCMb",
        "outputId": "8929a50a-47b4-4862-daae-df2cf09950ee"
      },
      "execution_count": null,
      "outputs": [
        {
          "output_type": "execute_result",
          "data": {
            "text/plain": [
              "True"
            ]
          },
          "metadata": {},
          "execution_count": 2
        }
      ]
    },
    {
      "cell_type": "code",
      "source": [
        "# Operador lógico E\n",
        "True and True"
      ],
      "metadata": {
        "colab": {
          "base_uri": "https://localhost:8080/"
        },
        "id": "GE1myMvaZWIr",
        "outputId": "265d02eb-426e-480e-e608-926f481afb11"
      },
      "execution_count": null,
      "outputs": [
        {
          "output_type": "execute_result",
          "data": {
            "text/plain": [
              "True"
            ]
          },
          "metadata": {},
          "execution_count": 3
        }
      ]
    },
    {
      "cell_type": "code",
      "source": [
        "True or False and True"
      ],
      "metadata": {
        "colab": {
          "base_uri": "https://localhost:8080/"
        },
        "id": "jnOAjkbFZkhm",
        "outputId": "79b77180-a35e-4e99-d266-29d1a965edb8"
      },
      "execution_count": null,
      "outputs": [
        {
          "output_type": "execute_result",
          "data": {
            "text/plain": [
              "True"
            ]
          },
          "metadata": {},
          "execution_count": 4
        }
      ]
    },
    {
      "cell_type": "markdown",
      "source": [
        "Estruturas de Decisão"
      ],
      "metadata": {
        "id": "LKqr_HisZ7YD"
      }
    },
    {
      "cell_type": "markdown",
      "source": [
        "if (condição) :\n",
        "\n",
        " código se condição VERDADEIRA\n",
        "\n",
        "else:\n",
        "\n",
        " código se condição FALSA"
      ],
      "metadata": {
        "id": "OPU6Zj-1aArr"
      }
    },
    {
      "cell_type": "code",
      "source": [
        "vai_chover = True\n",
        "\n",
        "if (vai_chover == False):\n",
        "  print( \"Não precisa levar o guarda-chuva\")\n",
        "else:\n",
        "  print( \"precisa levar o guarda-chuva\")\n"
      ],
      "metadata": {
        "colab": {
          "base_uri": "https://localhost:8080/"
        },
        "id": "HA736X7na7l6",
        "outputId": "7e874462-7148-4444-d284-3e153e3f9080"
      },
      "execution_count": null,
      "outputs": [
        {
          "output_type": "stream",
          "name": "stdout",
          "text": [
            "precisa levar o guarda-chuva\n"
          ]
        }
      ]
    },
    {
      "cell_type": "markdown",
      "source": [
        "Faça um programa que receba uma idade do usuáriop e informe se ele é ou não maior de idade"
      ],
      "metadata": {
        "id": "1uWv1wtnd8YH"
      }
    },
    {
      "cell_type": "code",
      "source": [
        "idade = int(input(\"Digite a sua idade : \"))\n",
        "\n",
        "print(\"A variável idade é do tipo :\", type(idade))\n",
        "\n",
        "soma = idade + 20\n",
        "\n",
        "print(\"A sua idade somada com mais 20 anos é de : \", soma)\n",
        "\n"
      ],
      "metadata": {
        "colab": {
          "base_uri": "https://localhost:8080/"
        },
        "id": "qmhZaRbAZ-Tq",
        "outputId": "aed2867e-6625-4199-d136-77bc33505b4a"
      },
      "execution_count": null,
      "outputs": [
        {
          "output_type": "stream",
          "name": "stdout",
          "text": [
            "Digite a sua idade : 18\n",
            "A variável idade é do tipo : <class 'int'>\n",
            "A sua idade somada com mais 20 anos é de :  38\n"
          ]
        }
      ]
    },
    {
      "cell_type": "code",
      "source": [
        "if idade >= 18:\n",
        "  print(\"Você não pode cometer crimes😭\")\n",
        "else:\n",
        "  print(\"Você ainda pode cometer crimes 😈\")"
      ],
      "metadata": {
        "colab": {
          "base_uri": "https://localhost:8080/"
        },
        "id": "lU-7KaOfjtsX",
        "outputId": "34d32832-f25a-4621-f830-72a4c705d1f5"
      },
      "execution_count": null,
      "outputs": [
        {
          "output_type": "stream",
          "name": "stdout",
          "text": [
            "Você não pode cometer crimes😭\n"
          ]
        }
      ]
    },
    {
      "cell_type": "markdown",
      "source": [
        "Faça um programa que informe se o usuário pode ou não dirigir um veículo. Para isso peça a idade do usuário e também pergunte se ele possui uma carteira de habilitação legal."
      ],
      "metadata": {
        "id": "9pk9ie52ltId"
      }
    },
    {
      "cell_type": "code",
      "source": [
        "idade = int(input(\" Digite a sua idade:\"))\n",
        "\n",
        "\n"
      ],
      "metadata": {
        "colab": {
          "base_uri": "https://localhost:8080/"
        },
        "id": "iz5CoDf8lpd0",
        "outputId": "a3b539d7-bd9f-4ddb-dd1a-dbab03e40505"
      },
      "execution_count": null,
      "outputs": [
        {
          "name": "stdout",
          "output_type": "stream",
          "text": [
            " Digite a sua idade:28\n"
          ]
        }
      ]
    },
    {
      "cell_type": "code",
      "source": [
        "if idade >= 18 :\n",
        "  carteira = input(\"você tem uma carteira de habilitação legal? Digite APENAS SIM ou NÃO: \")\n",
        "  if carteira == \"SIM\":\n",
        "    print(\"Você pode dirigir🚗\")\n",
        "  else:\n",
        "    print(\"Você não pode dirgir, pois não tem uma carteira de habilitação legal😭\")\n",
        "else:\n",
        "  print(\"Você não pode dirigir por ser menor de idade😭\")"
      ],
      "metadata": {
        "colab": {
          "base_uri": "https://localhost:8080/"
        },
        "id": "Yk5iIy3KnZts",
        "outputId": "381d2f6f-e6cb-4a5c-fbf9-52a2127034d9"
      },
      "execution_count": null,
      "outputs": [
        {
          "output_type": "stream",
          "name": "stdout",
          "text": [
            "você tem uma carteira de habilitação legal? Digite APENAS SIM ou NÃO: SIM\n",
            "Você pode dirigir🚗\n"
          ]
        }
      ]
    }
  ]
}